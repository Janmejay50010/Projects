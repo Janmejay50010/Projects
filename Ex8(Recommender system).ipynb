{
 "cells": [
  {
   "cell_type": "code",
   "execution_count": 1,
   "metadata": {},
   "outputs": [],
   "source": [
    "#endeener1\n",
    "\n",
    "import pandas as pd\n",
    "import numpy as np\n",
    "from scipy.optimize import minimize\n",
    "import scipy.io\n",
    "import matplotlib.pyplot as plt"
   ]
  },
  {
   "cell_type": "markdown",
   "metadata": {},
   "source": [
    "# Recommending movies(Using Collaborative filtering Algorithm)"
   ]
  },
  {
   "cell_type": "markdown",
   "metadata": {},
   "source": [
    "In this assignment,I will use collaborative filtering learning algorithm and apply it to a dataset of movie ratings.This dataset consists of ratings on a scale of 1 to 5. The dataset has nu = 943 users, and nm = 1682 movies. \n",
    "The matrix Y (num movies * num users matrix) stores the ratings(from 1 to 5).\n",
    "ith row of X stores feature vector of ith movie. \n",
    "Theta(j) corresponds to parameter vector related to jth user.\n",
    "Obejctive is to learn both theta(parameters of a praticular user) and X(features of a particular movie) and multiply them both to predict the rating given by that user to that particular movie.\n",
    "R(Its a matrix where R(i,j) = 1 if user j has given rating to movie i).\n"
   ]
  },
  {
   "cell_type": "code",
   "execution_count": 12,
   "metadata": {},
   "outputs": [],
   "source": [
    "import os"
   ]
  },
  {
   "cell_type": "code",
   "execution_count": 13,
   "metadata": {},
   "outputs": [],
   "source": [
    "os.chdir('C:/Users/jarves/Desktop/Machine Learning/Andrew NG/ex8(Anamoly detection and recommender systems)')"
   ]
  },
  {
   "cell_type": "code",
   "execution_count": 14,
   "metadata": {},
   "outputs": [
    {
     "name": "stdout",
     "output_type": "stream",
     "text": [
      "1682 943\n"
     ]
    }
   ],
   "source": [
    "datafile = 'ex8_movies.mat'\n",
    "mat = scipy.io.loadmat( datafile )\n",
    "Y = mat['Y']\n",
    "R = mat['R']\n",
    "\n",
    "nm, nu = Y.shape\n",
    "print(nm,nu)"
   ]
  },
  {
   "cell_type": "code",
   "execution_count": 15,
   "metadata": {},
   "outputs": [],
   "source": [
    "# Read in the movie params matrices\n",
    "datafile = 'ex8_movieParams.mat'\n",
    "mat = scipy.io.loadmat( datafile )\n",
    "X = mat['X']\n",
    "Theta = mat['Theta']\n",
    "nu = int(mat['num_users'])\n",
    "nm = int(mat['num_movies'])\n",
    "nf = int(mat['num_features'])\n",
    "\n",
    "# were it not for testing purpose, there's no need to load parameters X and Theta (since we'll have random initialization)\n",
    "# also the nu, nm could'be been obtained from Y (just reused the nu and nm from the above)"
   ]
  },
  {
   "cell_type": "code",
   "execution_count": 16,
   "metadata": {},
   "outputs": [],
   "source": [
    "#Function to flatten the parameters\n",
    "def flattenParams(X, Theta):\n",
    "    return np.concatenate((X.flatten(),Theta.flatten()))\n",
    "\n",
    "# just an inverse function of flattenParams\n",
    "def reshapeParams(flattened_XandTheta, nm, nu, nf):\n",
    "\n",
    "    reX = flattened_XandTheta[:int(nm*nf)].reshape((nm,nf))\n",
    "    reTheta = flattened_XandTheta[int(nm*nf):].reshape((nu,nf))\n",
    "    \n",
    "    return reX, reTheta"
   ]
  },
  {
   "cell_type": "code",
   "execution_count": 17,
   "metadata": {},
   "outputs": [],
   "source": [
    "#Function to calculate the cost\n",
    "def cofiCostFunc(params, Y, R, nf, lambd = 0.):\n",
    "    \n",
    "    nm, nu = Y.shape\n",
    "\n",
    "    # retrieving X and Theta matrices from the flattened params\n",
    "    X, Theta = reshapeParams(params, nm, nu, nf)\n",
    "  \n",
    "    error = (X.dot(Theta.T) - Y) * R\n",
    "    cost = 0.5 * np.sum( np.square(error) )  # unregularized\n",
    "\n",
    "    cost += (lambd/2.) * np.sum(np.square(X)) + (lambd/2.) * np.sum(np.square(Theta))   # regularized\n",
    "\n",
    "    return cost"
   ]
  },
  {
   "cell_type": "code",
   "execution_count": 18,
   "metadata": {},
   "outputs": [],
   "source": [
    "def cofiGrad(params, Y, R, nf, lambd = 0.):\n",
    "    \n",
    "    nm, nu = Y.shape\n",
    "    \n",
    "    # Retrieving X and Theta matrices from the flattened params\n",
    "    X, Theta = reshapeParams(params, nm, nu, nf)\n",
    "\n",
    "    error = (X.dot(Theta.T) - Y) * R\n",
    "    X_grad = error.dot(Theta)\n",
    "    \n",
    "    # computing the gradients\n",
    "    Theta_grad = error.T.dot(X)\n",
    "\n",
    "    # Regularization stuff\n",
    "    X_grad += lambd * X\n",
    "    Theta_grad += lambd * Theta\n",
    "    \n",
    "    return flattenParams(X_grad, Theta_grad)"
   ]
  },
  {
   "cell_type": "code",
   "execution_count": 19,
   "metadata": {},
   "outputs": [
    {
     "data": {
      "text/plain": [
       "22.224603725685675"
      ]
     },
     "execution_count": 19,
     "metadata": {},
     "output_type": "execute_result"
    }
   ],
   "source": [
    "cofiCostFunc(flattenParams(X1,Theta1),Y1,R1,nf1)"
   ]
  },
  {
   "cell_type": "code",
   "execution_count": 21,
   "metadata": {},
   "outputs": [
    {
     "data": {
      "text/plain": [
       "'GoldenEye (1995)'"
      ]
     },
     "execution_count": 21,
     "metadata": {},
     "output_type": "execute_result"
    }
   ],
   "source": [
    "movie_list = 'movie_ids.txt'\n",
    "movies = []\n",
    "with open(movie_list, encoding = \"ISO-8859-1\", mode = \"r\") as f:\n",
    "    for line in f:\n",
    "        movies.append(' '.join(line.strip('\\n').split(' ')[1:]))\n",
    "movies[1]       "
   ]
  },
  {
   "cell_type": "code",
   "execution_count": 22,
   "metadata": {},
   "outputs": [],
   "source": [
    "#User ratings\n",
    "my_ratings = np.zeros((1682,1))\n",
    "my_ratings[0]   = 4\n",
    "my_ratings[97]  = 2\n",
    "my_ratings[6]   = 3\n",
    "my_ratings[11]  = 5\n",
    "my_ratings[53]  = 4\n",
    "my_ratings[63]  = 5\n",
    "my_ratings[65]  = 3\n",
    "my_ratings[68]  = 5\n",
    "my_ratings[182] = 4\n",
    "my_ratings[225] = 5\n",
    "my_ratings[354] = 5"
   ]
  },
  {
   "cell_type": "code",
   "execution_count": 23,
   "metadata": {},
   "outputs": [
    {
     "name": "stdout",
     "output_type": "stream",
     "text": [
      "(1682, 944)\n"
     ]
    }
   ],
   "source": [
    "#Adding my ratings to ratings matrix\n",
    "myR = my_ratings > 0\n",
    "Y = np.hstack((Y,my_ratings))\n",
    "R = np.hstack((R,myR))\n",
    "nm, nu = Y.shape\n",
    "print(Y.shape)"
   ]
  },
  {
   "cell_type": "code",
   "execution_count": 24,
   "metadata": {},
   "outputs": [],
   "source": [
    "def normalizeRatings(Y, R):\n",
    "    \"\"\"\n",
    "    Preprocess data by subtracting mean rating for every movie (every row)\n",
    "    This is important because without this, a user who hasn't rated any movies\n",
    "    will have a predicted score of 0 for every movie, when in reality\n",
    "    they should have a predicted score of [average score of that movie].\n",
    "    \"\"\"\n",
    "\n",
    "    # The mean is only counting movies that were rated\n",
    "    Ymean = np.sum(Y,axis=1)/np.sum(R,axis=1)\n",
    "    Ymean = Ymean.reshape((Ymean.shape[0],1))\n",
    "    Ynorm= Y-Ymean\n",
    "    \n",
    "    return Ynorm, Ymean"
   ]
  },
  {
   "cell_type": "code",
   "execution_count": 25,
   "metadata": {},
   "outputs": [],
   "source": [
    "Ynorm, Ymean = normalizeRatings(Y,R)"
   ]
  },
  {
   "cell_type": "code",
   "execution_count": 26,
   "metadata": {},
   "outputs": [
    {
     "data": {
      "text/plain": [
       "((1682, 944), (1682, 1))"
      ]
     },
     "execution_count": 26,
     "metadata": {},
     "output_type": "execute_result"
    }
   ],
   "source": [
    "Ynorm.shape, Ymean.shape"
   ]
  },
  {
   "cell_type": "code",
   "execution_count": 32,
   "metadata": {},
   "outputs": [
    {
     "name": "stdout",
     "output_type": "stream",
     "text": [
      "Warning: Maximum number of iterations has been exceeded.\n",
      "         Current function value: 73014.474471\n",
      "         Iterations: 50\n",
      "         Function evaluations: 76\n",
      "         Gradient evaluations: 76\n"
     ]
    }
   ],
   "source": [
    "\n",
    "# Generate random initial parameters, Theta and X\n",
    "X = np.random.rand(nm,nf)\n",
    "Theta = np.random.rand(nu,nf)\n",
    "myflat = flattenParams(X, Theta)\n",
    "\n",
    "# Regularization parameter of 10 is used \n",
    "lambd = 10.\n",
    "\n",
    "# Training the actual model with fmin_cg\n",
    "result = scipy.optimize.fmin_cg(cofiCostFunc, x0=myflat, fprime=cofiGrad, \\\n",
    "                               args=(Y,R,nf,lambd), \\\n",
    "                                maxiter=50,disp=True,full_output=True)"
   ]
  },
  {
   "cell_type": "code",
   "execution_count": 33,
   "metadata": {},
   "outputs": [
    {
     "name": "stdout",
     "output_type": "stream",
     "text": [
      "(array([0.52503699, 0.70128771, 0.77173426, ..., 0.43162352, 0.48214664,\n",
      "       0.39867701]), 73014.47447093029, 76, 76, 1)\n",
      "5\n",
      "26260\n"
     ]
    }
   ],
   "source": [
    "print(result)\n",
    "print(len(result))\n",
    "print(len(result[0]))"
   ]
  },
  {
   "cell_type": "code",
   "execution_count": 34,
   "metadata": {},
   "outputs": [],
   "source": [
    "resX, resTheta = reshapeParams(result[0], nm, nu, nf)"
   ]
  },
  {
   "cell_type": "code",
   "execution_count": 35,
   "metadata": {},
   "outputs": [],
   "source": [
    "prediction_matrix = resX.dot(resTheta.T)\n",
    "my_predictions = prediction_matrix[:,-1] + Ymean.flatten()"
   ]
  },
  {
   "cell_type": "code",
   "execution_count": 36,
   "metadata": {},
   "outputs": [
    {
     "name": "stdout",
     "output_type": "stream",
     "text": [
      "Top recommendations for you:\n",
      "Predicting rating 8.4 for movie Star Wars (1977).\n",
      "Predicting rating 8.4 for movie Schindler's List (1993).\n",
      "Predicting rating 8.3 for movie Shawshank Redemption, The (1994).\n",
      "Predicting rating 8.2 for movie Raiders of the Lost Ark (1981).\n",
      "Predicting rating 8.2 for movie Titanic (1997).\n",
      "Predicting rating 8.1 for movie Good Will Hunting (1997).\n",
      "Predicting rating 8.1 for movie Usual Suspects, The (1995).\n",
      "Predicting rating 8.0 for movie Casablanca (1942).\n",
      "Predicting rating 8.0 for movie Wrong Trousers, The (1993).\n",
      "Predicting rating 8.0 for movie Close Shave, A (1995).\n",
      "\n",
      "Original ratings provided by user (you):\n",
      "Rated 4 for movie Toy Story (1995).\n",
      "Rated 3 for movie Twelve Monkeys (1995).\n",
      "Rated 5 for movie Usual Suspects, The (1995).\n",
      "Rated 4 for movie Outbreak (1995).\n",
      "Rated 5 for movie Shawshank Redemption, The (1994).\n",
      "Rated 3 for movie While You Were Sleeping (1995).\n",
      "Rated 5 for movie Forrest Gump (1994).\n",
      "Rated 2 for movie Silence of the Lambs, The (1991).\n",
      "Rated 4 for movie Alien (1979).\n",
      "Rated 5 for movie Die Hard 2 (1990).\n",
      "Rated 5 for movie Sphere (1998).\n"
     ]
    }
   ],
   "source": [
    "pred_idxs_sorted = np.argsort(my_predictions)\n",
    "#argsort returns the indices of the arguments in ascending order\n",
    "# invert\n",
    "pred_idxs_sorted[:] = pred_idxs_sorted[::-1]\n",
    "\n",
    "print (\"Top recommendations for you:\")\n",
    "for i in range(10):\n",
    "    print ('Predicting rating %0.1f for movie %s.' %\n",
    "    (my_predictions[pred_idxs_sorted[i]],movies[pred_idxs_sorted[i]]))\n",
    "    \n",
    "print (\"\\nOriginal ratings provided by user (you):\")\n",
    "for i in range(len(my_ratings)):\n",
    "    if my_ratings[i] > 0:\n",
    "        print ('Rated %d for movie %s.' % (my_ratings[i],movies[i]))"
   ]
  },
  {
   "cell_type": "code",
   "execution_count": null,
   "metadata": {},
   "outputs": [],
   "source": []
  }
 ],
 "metadata": {
  "kernelspec": {
   "display_name": "Python 3",
   "language": "python",
   "name": "python3"
  },
  "language_info": {
   "codemirror_mode": {
    "name": "ipython",
    "version": 3
   },
   "file_extension": ".py",
   "mimetype": "text/x-python",
   "name": "python",
   "nbconvert_exporter": "python",
   "pygments_lexer": "ipython3",
   "version": "3.7.0"
  }
 },
 "nbformat": 4,
 "nbformat_minor": 2
}
