{
 "cells": [
  {
   "cell_type": "code",
   "execution_count": 0,
   "metadata": {
    "colab": {},
    "colab_type": "code",
    "id": "GdCMTWyNYSx0"
   },
   "outputs": [],
   "source": [
    "import numpy as np\n",
    "import tensorflow as tf"
   ]
  },
  {
   "cell_type": "code",
   "execution_count": 2,
   "metadata": {
    "colab": {
     "base_uri": "https://localhost:8080/",
     "height": 34
    },
    "colab_type": "code",
    "id": "_lJxpPblYbNN",
    "outputId": "7d0ad4a2-8c02-420e-861a-07ccaa2afcac"
   },
   "outputs": [
    {
     "name": "stderr",
     "output_type": "stream",
     "text": [
      "Using TensorFlow backend.\n"
     ]
    }
   ],
   "source": [
    "import keras"
   ]
  },
  {
   "cell_type": "code",
   "execution_count": 0,
   "metadata": {
    "colab": {},
    "colab_type": "code",
    "id": "zkU4PjtWrWKI"
   },
   "outputs": [],
   "source": [
    "from keras.models import Sequential\n",
    "from keras.layers import Dense,LSTM\n",
    "from sklearn.model_selection import train_test_split\n",
    "import numpy as np\n",
    "import matplotlib.pyplot as plt\n",
    "import numpy as np\n",
    "\n",
    "from keras.callbacks import History"
   ]
  },
  {
   "cell_type": "code",
   "execution_count": 0,
   "metadata": {
    "colab": {},
    "colab_type": "code",
    "id": "0ty_L9fFrlF_"
   },
   "outputs": [],
   "source": [
    "from sklearn.model_selection import train_test_split\n",
    "import numpy as np\n",
    "import matplotlib.pyplot as plt\n",
    "import numpy as np"
   ]
  },
  {
   "cell_type": "code",
   "execution_count": 0,
   "metadata": {
    "colab": {},
    "colab_type": "code",
    "id": "dKb_bR2Urp5m"
   },
   "outputs": [],
   "source": [
    "#Data Preparation\n",
    "data = [[[i+j] for i in range(5)] for j in range(100)]\n",
    "target = [(i+5) for i in range(100)]"
   ]
  },
  {
   "cell_type": "code",
   "execution_count": 6,
   "metadata": {
    "colab": {
     "base_uri": "https://localhost:8080/",
     "height": 85
    },
    "colab_type": "code",
    "id": "xj2kzP9LrsyC",
    "outputId": "86e1de8b-7037-4116-debf-a55690685562"
   },
   "outputs": [
    {
     "name": "stdout",
     "output_type": "stream",
     "text": [
      "100\n",
      "[[0], [1], [2], [3], [4]]\n",
      "[[1], [2], [3], [4], [5]]\n",
      "5\n"
     ]
    }
   ],
   "source": [
    "data\n",
    "print(len(data))\n",
    "print(data[0])\n",
    "print(data[1])\n",
    "print(target[0])"
   ]
  },
  {
   "cell_type": "code",
   "execution_count": 0,
   "metadata": {
    "colab": {},
    "colab_type": "code",
    "id": "jt0-3DFRrvxo"
   },
   "outputs": [],
   "source": [
    "data = np.array(data,dtype =float)\n",
    "target = np.array(target,dtype =float)"
   ]
  },
  {
   "cell_type": "code",
   "execution_count": 8,
   "metadata": {
    "colab": {
     "base_uri": "https://localhost:8080/",
     "height": 34
    },
    "colab_type": "code",
    "id": "-XtY5aDGr0yW",
    "outputId": "cdcfa5dd-422d-4e6b-c368-65b3f9799485"
   },
   "outputs": [
    {
     "name": "stdout",
     "output_type": "stream",
     "text": [
      "(100, 5, 1)\n"
     ]
    }
   ],
   "source": [
    "print(data.shape)"
   ]
  },
  {
   "cell_type": "code",
   "execution_count": 9,
   "metadata": {
    "colab": {
     "base_uri": "https://localhost:8080/",
     "height": 34
    },
    "colab_type": "code",
    "id": "H6ZdHqQFr3pz",
    "outputId": "ce519783-322c-40ed-9c61-036c73fb7692"
   },
   "outputs": [
    {
     "name": "stdout",
     "output_type": "stream",
     "text": [
      "(100,)\n"
     ]
    }
   ],
   "source": [
    "print(target.shape)"
   ]
  },
  {
   "cell_type": "code",
   "execution_count": 10,
   "metadata": {
    "colab": {
     "base_uri": "https://localhost:8080/",
     "height": 68
    },
    "colab_type": "code",
    "id": "gHt3b_GJr8Py",
    "outputId": "be5ca476-b17b-42c0-d42c-77e654e9d941"
   },
   "outputs": [
    {
     "data": {
      "text/plain": [
       "array([[1],\n",
       "       [2],\n",
       "       [3]])"
      ]
     },
     "execution_count": 10,
     "metadata": {
      "tags": []
     },
     "output_type": "execute_result"
    }
   ],
   "source": [
    "###Ignore this cel\n",
    "x=[[1],[2],[3]]\n",
    "y=np.array(x)\n",
    "y"
   ]
  },
  {
   "cell_type": "code",
   "execution_count": 11,
   "metadata": {
    "colab": {
     "base_uri": "https://localhost:8080/",
     "height": 102
    },
    "colab_type": "code",
    "id": "tODoJwb8r_UP",
    "outputId": "8cfce39f-9040-410e-9642-c326d58bff82"
   },
   "outputs": [
    {
     "name": "stdout",
     "output_type": "stream",
     "text": [
      "[[0.]\n",
      " [1.]\n",
      " [2.]\n",
      " [3.]\n",
      " [4.]]\n"
     ]
    }
   ],
   "source": [
    "print(data[0])"
   ]
  },
  {
   "cell_type": "code",
   "execution_count": 0,
   "metadata": {
    "colab": {},
    "colab_type": "code",
    "id": "nTKB0PyNsEBf"
   },
   "outputs": [],
   "source": [
    "x_train,x_test,y_train,y_test = train_test_split(data,target,test_size=0.2,random_state=0)"
   ]
  },
  {
   "cell_type": "code",
   "execution_count": 13,
   "metadata": {
    "colab": {
     "base_uri": "https://localhost:8080/",
     "height": 241
    },
    "colab_type": "code",
    "id": "f-C6abTxsLzN",
    "outputId": "287e5613-8575-4ec7-96be-3e9700cb2e98"
   },
   "outputs": [
    {
     "name": "stdout",
     "output_type": "stream",
     "text": [
      "WARNING:tensorflow:From /usr/local/lib/python3.6/dist-packages/tensorflow/python/framework/op_def_library.py:263: colocate_with (from tensorflow.python.framework.ops) is deprecated and will be removed in a future version.\n",
      "Instructions for updating:\n",
      "Colocations handled automatically by placer.\n",
      "_________________________________________________________________\n",
      "Layer (type)                 Output Shape              Param #   \n",
      "=================================================================\n",
      "lstm_1 (LSTM)                (None, 1)                 12        \n",
      "=================================================================\n",
      "Total params: 12\n",
      "Trainable params: 12\n",
      "Non-trainable params: 0\n",
      "_________________________________________________________________\n"
     ]
    }
   ],
   "source": [
    "##RNN mddel\n",
    "\n",
    "model = Sequential()\n",
    "\n",
    "model.add(LSTM(1,batch_input_shape=(None,5,1),return_sequences=False))\n",
    "\n",
    "model.compile(loss='mean_absolute_error',optimizer='adam',metrics=['accuracy'])\n",
    "\n",
    "model.summary()"
   ]
  },
  {
   "cell_type": "code",
   "execution_count": 14,
   "metadata": {
    "colab": {
     "base_uri": "https://localhost:8080/",
     "height": 1822
    },
    "colab_type": "code",
    "id": "YUQM6KSFsjc3",
    "outputId": "3eea9382-1c1f-4f72-cebb-4c135b34cffb"
   },
   "outputs": [
    {
     "name": "stdout",
     "output_type": "stream",
     "text": [
      "WARNING:tensorflow:From /usr/local/lib/python3.6/dist-packages/tensorflow/python/ops/math_ops.py:3066: to_int32 (from tensorflow.python.ops.math_ops) is deprecated and will be removed in a future version.\n",
      "Instructions for updating:\n",
      "Use tf.cast instead.\n",
      "Train on 80 samples, validate on 20 samples\n",
      "Epoch 1/50\n",
      "80/80 [==============================] - 1s 8ms/step - loss: 56.1303 - acc: 0.0000e+00 - val_loss: 52.6658 - val_acc: 0.0000e+00\n",
      "Epoch 2/50\n",
      "80/80 [==============================] - 0s 258us/step - loss: 56.1274 - acc: 0.0000e+00 - val_loss: 52.6600 - val_acc: 0.0000e+00\n",
      "Epoch 3/50\n",
      "80/80 [==============================] - 0s 226us/step - loss: 56.1238 - acc: 0.0000e+00 - val_loss: 52.6536 - val_acc: 0.0000e+00\n",
      "Epoch 4/50\n",
      "80/80 [==============================] - 0s 196us/step - loss: 56.1199 - acc: 0.0000e+00 - val_loss: 52.6460 - val_acc: 0.0000e+00\n",
      "Epoch 5/50\n",
      "80/80 [==============================] - 0s 205us/step - loss: 56.1154 - acc: 0.0000e+00 - val_loss: 52.6383 - val_acc: 0.0000e+00\n",
      "Epoch 6/50\n",
      "80/80 [==============================] - 0s 212us/step - loss: 56.1099 - acc: 0.0000e+00 - val_loss: 52.6302 - val_acc: 0.0000e+00\n",
      "Epoch 7/50\n",
      "80/80 [==============================] - 0s 214us/step - loss: 56.1031 - acc: 0.0000e+00 - val_loss: 52.6220 - val_acc: 0.0000e+00\n",
      "Epoch 8/50\n",
      "80/80 [==============================] - 0s 216us/step - loss: 56.0945 - acc: 0.0000e+00 - val_loss: 52.6135 - val_acc: 0.0000e+00\n",
      "Epoch 9/50\n",
      "80/80 [==============================] - 0s 216us/step - loss: 56.0843 - acc: 0.0000e+00 - val_loss: 52.6045 - val_acc: 0.0000e+00\n",
      "Epoch 10/50\n",
      "80/80 [==============================] - 0s 209us/step - loss: 56.0712 - acc: 0.0000e+00 - val_loss: 52.5901 - val_acc: 0.0000e+00\n",
      "Epoch 11/50\n",
      "80/80 [==============================] - 0s 222us/step - loss: 56.0556 - acc: 0.0000e+00 - val_loss: 52.5733 - val_acc: 0.0000e+00\n",
      "Epoch 12/50\n",
      "80/80 [==============================] - 0s 241us/step - loss: 56.0351 - acc: 0.0000e+00 - val_loss: 52.5545 - val_acc: 0.0000e+00\n",
      "Epoch 13/50\n",
      "80/80 [==============================] - 0s 232us/step - loss: 56.0075 - acc: 0.0000e+00 - val_loss: 52.5248 - val_acc: 0.0000e+00\n",
      "Epoch 14/50\n",
      "80/80 [==============================] - 0s 271us/step - loss: 55.9670 - acc: 0.0000e+00 - val_loss: 52.4788 - val_acc: 0.0000e+00\n",
      "Epoch 15/50\n",
      "80/80 [==============================] - 0s 263us/step - loss: 55.9171 - acc: 0.0000e+00 - val_loss: 52.4294 - val_acc: 0.0000e+00\n",
      "Epoch 16/50\n",
      "80/80 [==============================] - 0s 451us/step - loss: 55.8650 - acc: 0.0000e+00 - val_loss: 52.3796 - val_acc: 0.0000e+00\n",
      "Epoch 17/50\n",
      "80/80 [==============================] - 0s 261us/step - loss: 55.8107 - acc: 0.0000e+00 - val_loss: 52.3298 - val_acc: 0.0000e+00\n",
      "Epoch 18/50\n",
      "80/80 [==============================] - 0s 220us/step - loss: 55.7581 - acc: 0.0000e+00 - val_loss: 52.2803 - val_acc: 0.0000e+00\n",
      "Epoch 19/50\n",
      "80/80 [==============================] - 0s 219us/step - loss: 55.7057 - acc: 0.0000e+00 - val_loss: 52.2315 - val_acc: 0.0000e+00\n",
      "Epoch 20/50\n",
      "80/80 [==============================] - 0s 220us/step - loss: 55.6525 - acc: 0.0000e+00 - val_loss: 52.1835 - val_acc: 0.0000e+00\n",
      "Epoch 21/50\n",
      "80/80 [==============================] - 0s 213us/step - loss: 55.6009 - acc: 0.0000e+00 - val_loss: 52.1359 - val_acc: 0.0000e+00\n",
      "Epoch 22/50\n",
      "80/80 [==============================] - 0s 270us/step - loss: 55.5530 - acc: 0.0000e+00 - val_loss: 52.0890 - val_acc: 0.0000e+00\n",
      "Epoch 23/50\n",
      "80/80 [==============================] - 0s 235us/step - loss: 55.5022 - acc: 0.0000e+00 - val_loss: 52.0433 - val_acc: 0.0000e+00\n",
      "Epoch 24/50\n",
      "80/80 [==============================] - 0s 278us/step - loss: 55.4534 - acc: 0.0000e+00 - val_loss: 51.9985 - val_acc: 0.0000e+00\n",
      "Epoch 25/50\n",
      "80/80 [==============================] - 0s 216us/step - loss: 55.4081 - acc: 0.0000e+00 - val_loss: 51.9667 - val_acc: 0.0000e+00\n",
      "Epoch 26/50\n",
      "80/80 [==============================] - 0s 260us/step - loss: 55.3729 - acc: 0.0000e+00 - val_loss: 51.9453 - val_acc: 0.0000e+00\n",
      "Epoch 27/50\n",
      "80/80 [==============================] - 0s 282us/step - loss: 55.3488 - acc: 0.0000e+00 - val_loss: 51.9307 - val_acc: 0.0000e+00\n",
      "Epoch 28/50\n",
      "80/80 [==============================] - 0s 259us/step - loss: 55.3305 - acc: 0.0000e+00 - val_loss: 51.9177 - val_acc: 0.0000e+00\n",
      "Epoch 29/50\n",
      "80/80 [==============================] - 0s 261us/step - loss: 55.3175 - acc: 0.0000e+00 - val_loss: 51.9065 - val_acc: 0.0000e+00\n",
      "Epoch 30/50\n",
      "80/80 [==============================] - 0s 251us/step - loss: 55.3079 - acc: 0.0000e+00 - val_loss: 51.9000 - val_acc: 0.0000e+00\n",
      "Epoch 31/50\n",
      "80/80 [==============================] - 0s 288us/step - loss: 55.2995 - acc: 0.0000e+00 - val_loss: 51.8949 - val_acc: 0.0000e+00\n",
      "Epoch 32/50\n",
      "80/80 [==============================] - 0s 276us/step - loss: 55.2925 - acc: 0.0000e+00 - val_loss: 51.8904 - val_acc: 0.0000e+00\n",
      "Epoch 33/50\n",
      "80/80 [==============================] - 0s 237us/step - loss: 55.2878 - acc: 0.0000e+00 - val_loss: 51.8863 - val_acc: 0.0000e+00\n",
      "Epoch 34/50\n",
      "80/80 [==============================] - 0s 228us/step - loss: 55.2834 - acc: 0.0000e+00 - val_loss: 51.8826 - val_acc: 0.0000e+00\n",
      "Epoch 35/50\n",
      "80/80 [==============================] - 0s 275us/step - loss: 55.2796 - acc: 0.0000e+00 - val_loss: 51.8792 - val_acc: 0.0000e+00\n",
      "Epoch 36/50\n",
      "80/80 [==============================] - 0s 225us/step - loss: 55.2764 - acc: 0.0000e+00 - val_loss: 51.8761 - val_acc: 0.0000e+00\n",
      "Epoch 37/50\n",
      "80/80 [==============================] - 0s 244us/step - loss: 55.2738 - acc: 0.0000e+00 - val_loss: 51.8732 - val_acc: 0.0000e+00\n",
      "Epoch 38/50\n",
      "80/80 [==============================] - 0s 239us/step - loss: 55.2715 - acc: 0.0000e+00 - val_loss: 51.8706 - val_acc: 0.0000e+00\n",
      "Epoch 39/50\n",
      "80/80 [==============================] - 0s 293us/step - loss: 55.2693 - acc: 0.0000e+00 - val_loss: 51.8681 - val_acc: 0.0000e+00\n",
      "Epoch 40/50\n",
      "80/80 [==============================] - 0s 240us/step - loss: 55.2675 - acc: 0.0000e+00 - val_loss: 51.8658 - val_acc: 0.0000e+00\n",
      "Epoch 41/50\n",
      "80/80 [==============================] - 0s 251us/step - loss: 55.2658 - acc: 0.0000e+00 - val_loss: 51.8636 - val_acc: 0.0000e+00\n",
      "Epoch 42/50\n",
      "80/80 [==============================] - 0s 257us/step - loss: 55.2643 - acc: 0.0000e+00 - val_loss: 51.8615 - val_acc: 0.0000e+00\n",
      "Epoch 43/50\n",
      "80/80 [==============================] - 0s 234us/step - loss: 55.2629 - acc: 0.0000e+00 - val_loss: 51.8594 - val_acc: 0.0000e+00\n",
      "Epoch 44/50\n",
      "80/80 [==============================] - 0s 266us/step - loss: 55.2616 - acc: 0.0000e+00 - val_loss: 51.8575 - val_acc: 0.0000e+00\n",
      "Epoch 45/50\n",
      "80/80 [==============================] - 0s 271us/step - loss: 55.2603 - acc: 0.0000e+00 - val_loss: 51.8556 - val_acc: 0.0000e+00\n",
      "Epoch 46/50\n",
      "80/80 [==============================] - 0s 267us/step - loss: 55.2591 - acc: 0.0000e+00 - val_loss: 51.8537 - val_acc: 0.0000e+00\n",
      "Epoch 47/50\n",
      "80/80 [==============================] - 0s 295us/step - loss: 55.2582 - acc: 0.0000e+00 - val_loss: 51.8519 - val_acc: 0.0000e+00\n",
      "Epoch 48/50\n",
      "80/80 [==============================] - 0s 275us/step - loss: 55.2572 - acc: 0.0000e+00 - val_loss: 51.8501 - val_acc: 0.0000e+00\n",
      "Epoch 49/50\n",
      "80/80 [==============================] - 0s 298us/step - loss: 55.2562 - acc: 0.0000e+00 - val_loss: 51.8485 - val_acc: 0.0000e+00\n",
      "Epoch 50/50\n",
      "80/80 [==============================] - 0s 340us/step - loss: 55.2553 - acc: 0.0000e+00 - val_loss: 51.8471 - val_acc: 0.0000e+00\n"
     ]
    },
    {
     "data": {
      "text/plain": [
       "<keras.callbacks.History at 0x7f0a20611438>"
      ]
     },
     "execution_count": 14,
     "metadata": {
      "tags": []
     },
     "output_type": "execute_result"
    }
   ],
   "source": [
    "history = History()\n",
    "model.fit(x_train,y_train,epochs=50,validation_data=(x_test,y_test),callbacks = [history])"
   ]
  },
  {
   "cell_type": "code",
   "execution_count": 0,
   "metadata": {
    "colab": {},
    "colab_type": "code",
    "id": "41Dhou15uSv3"
   },
   "outputs": [],
   "source": [
    "results = model.predict(x_test)"
   ]
  },
  {
   "cell_type": "code",
   "execution_count": 16,
   "metadata": {
    "colab": {
     "base_uri": "https://localhost:8080/",
     "height": 364
    },
    "colab_type": "code",
    "id": "lBqRT4ShunZy",
    "outputId": "fd675751-ce3e-478a-b48b-db950c5b8526"
   },
   "outputs": [
    {
     "data": {
      "text/plain": [
       "<matplotlib.collections.PathCollection at 0x7f0a1a8fceb8>"
      ]
     },
     "execution_count": 16,
     "metadata": {
      "tags": []
     },
     "output_type": "execute_result"
    },
    {
     "data": {
      "image/png": "[encoded data removed]",
      "text/plain": [
       "<Figure size 576x396 with 1 Axes>"
      ]
     },
     "metadata": {
      "tags": []
     },
     "output_type": "display_data"
    }
   ],
   "source": [
    "plt.scatter(range(20),results,c='b')\n",
    "plt.scatter(range(20),y_test,c='r')"
   ]
  },
  {
   "cell_type": "code",
   "execution_count": 17,
   "metadata": {
    "colab": {
     "base_uri": "https://localhost:8080/",
     "height": 364
    },
    "colab_type": "code",
    "id": "Fxsiq5p2utW5",
    "outputId": "0633fbd4-9b0c-48fc-b240-446f068910b9"
   },
   "outputs": [
    {
     "data": {
      "text/plain": [
       "dict_keys(['val_loss', 'val_acc', 'loss', 'acc'])"
      ]
     },
     "execution_count": 17,
     "metadata": {
      "tags": []
     },
     "output_type": "execute_result"
    },
    {
     "data": {
      "image/png": "[encoded data removed]",
      "text/plain": [
       "<Figure size 576x396 with 1 Axes>"
      ]
     },
     "metadata": {
      "tags": []
     },
     "output_type": "display_data"
    }
   ],
   "source": [
    "plt.plot(history.history['loss'])\n",
    "history.history.keys()"
   ]
  },
  {
   "cell_type": "code",
   "execution_count": 0,
   "metadata": {
    "colab": {},
    "colab_type": "code",
    "id": "Nbxg6OvUu_4x"
   },
   "outputs": [],
   "source": [
    "###Model is not improving at all so normalizing the data\n",
    "\n",
    "Data = [[[(i+j)/100] for i in range(5)] for j in range(100)]\n",
    "Target = [(i+5)/100 for i in range(100)]\n",
    "Data = np.array(Data,dtype =float)\n",
    "Target = np.array(Target,dtype =float)\n"
   ]
  },
  {
   "cell_type": "code",
   "execution_count": 21,
   "metadata": {
    "colab": {
     "base_uri": "https://localhost:8080/",
     "height": 153
    },
    "colab_type": "code",
    "id": "PhkF7ayo1d7v",
    "outputId": "733dba9d-f330-4ee7-cae5-231e13a6617a"
   },
   "outputs": [
    {
     "name": "stdout",
     "output_type": "stream",
     "text": [
      "[[0.  ]\n",
      " [0.01]\n",
      " [0.02]\n",
      " [0.03]\n",
      " [0.04]]\n",
      "0.05\n",
      "(100, 5, 1)\n",
      "(100,)\n"
     ]
    }
   ],
   "source": [
    "x_train_n,x_test_n,y_train_n,y_test_n = train_test_split(Data,Target,test_size=0.2,random_state=0)\n",
    "print(Data[0])\n",
    "print(Target[0])\n",
    "print(Data.shape)\n",
    "print(Target.shape)"
   ]
  },
  {
   "cell_type": "code",
   "execution_count": 58,
   "metadata": {
    "colab": {
     "base_uri": "https://localhost:8080/",
     "height": 1751
    },
    "colab_type": "code",
    "id": "BTY0LmXyyxyL",
    "outputId": "a4656f53-3d42-4c72-dd56-6e502da0397a"
   },
   "outputs": [
    {
     "name": "stdout",
     "output_type": "stream",
     "text": [
      "Train on 80 samples, validate on 20 samples\n",
      "Epoch 1/50\n",
      "80/80 [==============================] - 0s 297us/step - loss: 0.0536 - acc: 0.0000e+00 - val_loss: 0.0647 - val_acc: 0.0500\n",
      "Epoch 2/50\n",
      "80/80 [==============================] - 0s 249us/step - loss: 0.0527 - acc: 0.0000e+00 - val_loss: 0.0637 - val_acc: 0.0500\n",
      "Epoch 3/50\n",
      "80/80 [==============================] - 0s 223us/step - loss: 0.0519 - acc: 0.0000e+00 - val_loss: 0.0627 - val_acc: 0.0500\n",
      "Epoch 4/50\n",
      "80/80 [==============================] - 0s 211us/step - loss: 0.0510 - acc: 0.0000e+00 - val_loss: 0.0617 - val_acc: 0.0500\n",
      "Epoch 5/50\n",
      "80/80 [==============================] - 0s 228us/step - loss: 0.0501 - acc: 0.0000e+00 - val_loss: 0.0607 - val_acc: 0.0500\n",
      "Epoch 6/50\n",
      "80/80 [==============================] - 0s 219us/step - loss: 0.0492 - acc: 0.0000e+00 - val_loss: 0.0597 - val_acc: 0.0500\n",
      "Epoch 7/50\n",
      "80/80 [==============================] - 0s 211us/step - loss: 0.0484 - acc: 0.0000e+00 - val_loss: 0.0588 - val_acc: 0.0500\n",
      "Epoch 8/50\n",
      "80/80 [==============================] - 0s 221us/step - loss: 0.0475 - acc: 0.0000e+00 - val_loss: 0.0578 - val_acc: 0.0500\n",
      "Epoch 9/50\n",
      "80/80 [==============================] - 0s 214us/step - loss: 0.0466 - acc: 0.0000e+00 - val_loss: 0.0568 - val_acc: 0.0500\n",
      "Epoch 10/50\n",
      "80/80 [==============================] - 0s 229us/step - loss: 0.0457 - acc: 0.0000e+00 - val_loss: 0.0558 - val_acc: 0.0500\n",
      "Epoch 11/50\n",
      "80/80 [==============================] - 0s 244us/step - loss: 0.0448 - acc: 0.0000e+00 - val_loss: 0.0548 - val_acc: 0.0500\n",
      "Epoch 12/50\n",
      "80/80 [==============================] - 0s 268us/step - loss: 0.0439 - acc: 0.0000e+00 - val_loss: 0.0538 - val_acc: 0.0500\n",
      "Epoch 13/50\n",
      "80/80 [==============================] - 0s 278us/step - loss: 0.0430 - acc: 0.0000e+00 - val_loss: 0.0528 - val_acc: 0.0500\n",
      "Epoch 14/50\n",
      "80/80 [==============================] - 0s 257us/step - loss: 0.0421 - acc: 0.0000e+00 - val_loss: 0.0518 - val_acc: 0.0500\n",
      "Epoch 15/50\n",
      "80/80 [==============================] - 0s 236us/step - loss: 0.0412 - acc: 0.0000e+00 - val_loss: 0.0507 - val_acc: 0.0500\n",
      "Epoch 16/50\n",
      "80/80 [==============================] - 0s 225us/step - loss: 0.0403 - acc: 0.0000e+00 - val_loss: 0.0497 - val_acc: 0.0500\n",
      "Epoch 17/50\n",
      "80/80 [==============================] - 0s 216us/step - loss: 0.0394 - acc: 0.0000e+00 - val_loss: 0.0488 - val_acc: 0.0500\n",
      "Epoch 18/50\n",
      "80/80 [==============================] - 0s 270us/step - loss: 0.0385 - acc: 0.0000e+00 - val_loss: 0.0478 - val_acc: 0.0500\n",
      "Epoch 19/50\n",
      "80/80 [==============================] - 0s 269us/step - loss: 0.0376 - acc: 0.0000e+00 - val_loss: 0.0467 - val_acc: 0.0500\n",
      "Epoch 20/50\n",
      "80/80 [==============================] - 0s 246us/step - loss: 0.0366 - acc: 0.0000e+00 - val_loss: 0.0455 - val_acc: 0.0500\n",
      "Epoch 21/50\n",
      "80/80 [==============================] - 0s 282us/step - loss: 0.0356 - acc: 0.0000e+00 - val_loss: 0.0445 - val_acc: 0.0500\n",
      "Epoch 22/50\n",
      "80/80 [==============================] - 0s 239us/step - loss: 0.0347 - acc: 0.0000e+00 - val_loss: 0.0435 - val_acc: 0.0500\n",
      "Epoch 23/50\n",
      "80/80 [==============================] - 0s 247us/step - loss: 0.0338 - acc: 0.0000e+00 - val_loss: 0.0427 - val_acc: 0.0500\n",
      "Epoch 24/50\n",
      "80/80 [==============================] - 0s 349us/step - loss: 0.0330 - acc: 0.0000e+00 - val_loss: 0.0416 - val_acc: 0.0500\n",
      "Epoch 25/50\n",
      "80/80 [==============================] - 0s 277us/step - loss: 0.0321 - acc: 0.0000e+00 - val_loss: 0.0405 - val_acc: 0.0500\n",
      "Epoch 26/50\n",
      "80/80 [==============================] - 0s 245us/step - loss: 0.0313 - acc: 0.0000e+00 - val_loss: 0.0399 - val_acc: 0.0500\n",
      "Epoch 27/50\n",
      "80/80 [==============================] - 0s 240us/step - loss: 0.0306 - acc: 0.0000e+00 - val_loss: 0.0389 - val_acc: 0.0500\n",
      "Epoch 28/50\n",
      "80/80 [==============================] - 0s 261us/step - loss: 0.0299 - acc: 0.0000e+00 - val_loss: 0.0379 - val_acc: 0.0500\n",
      "Epoch 29/50\n",
      "80/80 [==============================] - 0s 282us/step - loss: 0.0294 - acc: 0.0000e+00 - val_loss: 0.0370 - val_acc: 0.0500\n",
      "Epoch 30/50\n",
      "80/80 [==============================] - 0s 246us/step - loss: 0.0288 - acc: 0.0000e+00 - val_loss: 0.0365 - val_acc: 0.0500\n",
      "Epoch 31/50\n",
      "80/80 [==============================] - 0s 262us/step - loss: 0.0283 - acc: 0.0000e+00 - val_loss: 0.0360 - val_acc: 0.0500\n",
      "Epoch 32/50\n",
      "80/80 [==============================] - 0s 258us/step - loss: 0.0280 - acc: 0.0000e+00 - val_loss: 0.0352 - val_acc: 0.0500\n",
      "Epoch 33/50\n",
      "80/80 [==============================] - 0s 269us/step - loss: 0.0275 - acc: 0.0000e+00 - val_loss: 0.0343 - val_acc: 0.0500\n",
      "Epoch 34/50\n",
      "80/80 [==============================] - 0s 234us/step - loss: 0.0272 - acc: 0.0000e+00 - val_loss: 0.0336 - val_acc: 0.0500\n",
      "Epoch 35/50\n",
      "80/80 [==============================] - 0s 263us/step - loss: 0.0269 - acc: 0.0000e+00 - val_loss: 0.0331 - val_acc: 0.0500\n",
      "Epoch 36/50\n",
      "80/80 [==============================] - 0s 260us/step - loss: 0.0264 - acc: 0.0000e+00 - val_loss: 0.0326 - val_acc: 0.0500\n",
      "Epoch 37/50\n",
      "80/80 [==============================] - 0s 309us/step - loss: 0.0261 - acc: 0.0000e+00 - val_loss: 0.0322 - val_acc: 0.0500\n",
      "Epoch 38/50\n",
      "80/80 [==============================] - 0s 237us/step - loss: 0.0259 - acc: 0.0000e+00 - val_loss: 0.0317 - val_acc: 0.0500\n",
      "Epoch 39/50\n",
      "80/80 [==============================] - 0s 273us/step - loss: 0.0257 - acc: 0.0000e+00 - val_loss: 0.0312 - val_acc: 0.0500\n",
      "Epoch 40/50\n",
      "80/80 [==============================] - 0s 270us/step - loss: 0.0254 - acc: 0.0000e+00 - val_loss: 0.0307 - val_acc: 0.0500\n",
      "Epoch 41/50\n",
      "80/80 [==============================] - 0s 263us/step - loss: 0.0252 - acc: 0.0000e+00 - val_loss: 0.0303 - val_acc: 0.0500\n",
      "Epoch 42/50\n",
      "80/80 [==============================] - 0s 261us/step - loss: 0.0250 - acc: 0.0000e+00 - val_loss: 0.0299 - val_acc: 0.0500\n",
      "Epoch 43/50\n",
      "80/80 [==============================] - 0s 235us/step - loss: 0.0248 - acc: 0.0000e+00 - val_loss: 0.0296 - val_acc: 0.0500\n",
      "Epoch 44/50\n",
      "80/80 [==============================] - 0s 270us/step - loss: 0.0247 - acc: 0.0000e+00 - val_loss: 0.0293 - val_acc: 0.0500\n",
      "Epoch 45/50\n",
      "80/80 [==============================] - 0s 281us/step - loss: 0.0244 - acc: 0.0000e+00 - val_loss: 0.0290 - val_acc: 0.0500\n",
      "Epoch 46/50\n",
      "80/80 [==============================] - 0s 257us/step - loss: 0.0242 - acc: 0.0000e+00 - val_loss: 0.0287 - val_acc: 0.0500\n",
      "Epoch 47/50\n",
      "80/80 [==============================] - 0s 283us/step - loss: 0.0241 - acc: 0.0000e+00 - val_loss: 0.0285 - val_acc: 0.0500\n",
      "Epoch 48/50\n",
      "80/80 [==============================] - 0s 235us/step - loss: 0.0239 - acc: 0.0000e+00 - val_loss: 0.0283 - val_acc: 0.0500\n",
      "Epoch 49/50\n",
      "80/80 [==============================] - 0s 270us/step - loss: 0.0238 - acc: 0.0000e+00 - val_loss: 0.0279 - val_acc: 0.0500\n",
      "Epoch 50/50\n",
      "80/80 [==============================] - 0s 234us/step - loss: 0.0236 - acc: 0.0000e+00 - val_loss: 0.0276 - val_acc: 0.0500\n"
     ]
    },
    {
     "data": {
      "text/plain": [
       "<keras.callbacks.History at 0x7f0a181a4c88>"
      ]
     },
     "execution_count": 58,
     "metadata": {
      "tags": []
     },
     "output_type": "execute_result"
    }
   ],
   "source": [
    "#Total Epochs = 650\n",
    "model.fit(x_train_n,y_train_n,epochs=50,validation_data=(x_test_n,y_test_n),callbacks = [history])"
   ]
  },
  {
   "cell_type": "code",
   "execution_count": 59,
   "metadata": {
    "colab": {
     "base_uri": "https://localhost:8080/",
     "height": 367
    },
    "colab_type": "code",
    "id": "sD33Fj561bEV",
    "outputId": "db5e7ec5-3ef1-4bed-d62f-3ef3dba53d0c"
   },
   "outputs": [
    {
     "data": {
      "text/plain": [
       "[<matplotlib.lines.Line2D at 0x7f0a181937f0>]"
      ]
     },
     "execution_count": 59,
     "metadata": {
      "tags": []
     },
     "output_type": "execute_result"
    },
    {
     "data": {
      "image/png": "[encoded data removed]",
      "text/plain": [
       "<Figure size 576x396 with 1 Axes>"
      ]
     },
     "metadata": {
      "tags": []
     },
     "output_type": "display_data"
    }
   ],
   "source": [
    "plt.plot(history.history['loss'])"
   ]
  },
  {
   "cell_type": "code",
   "execution_count": 60,
   "metadata": {
    "colab": {
     "base_uri": "https://localhost:8080/",
     "height": 51
    },
    "colab_type": "code",
    "id": "QOBCj7zh0Vjl",
    "outputId": "0f9ed6c2-eec3-4463-fe38-9c20919cdac9"
   },
   "outputs": [
    {
     "name": "stdout",
     "output_type": "stream",
     "text": [
      "[0.30960923]\n",
      "0.31\n"
     ]
    }
   ],
   "source": [
    "results=model.predict(x_test_n)\n",
    "print(results[0])\n",
    "print(y_test_n[0])"
   ]
  },
  {
   "cell_type": "code",
   "execution_count": 61,
   "metadata": {
    "colab": {
     "base_uri": "https://localhost:8080/",
     "height": 364
    },
    "colab_type": "code",
    "id": "ZlAQ6gfA3YmR",
    "outputId": "cd149acf-6527-4d7e-bc17-50bed2a57b5c"
   },
   "outputs": [
    {
     "data": {
      "text/plain": [
       "<matplotlib.collections.PathCollection at 0x7f0a180ebef0>"
      ]
     },
     "execution_count": 61,
     "metadata": {
      "tags": []
     },
     "output_type": "execute_result"
    },
    {
     "data": {
      "image/png": "[encoded data removed]",
      "text/plain": [
       "<Figure size 576x396 with 1 Axes>"
      ]
     },
     "metadata": {
      "tags": []
     },
     "output_type": "display_data"
    }
   ],
   "source": [
    "plt.scatter(range(20),results,c='b')\n",
    "plt.scatter(range(20),y_test_n,c='r')\n"
   ]
  },
  {
   "cell_type": "code",
   "execution_count": 0,
   "metadata": {
    "colab": {},
    "colab_type": "code",
    "id": "PWf4-sAT3pjI"
   },
   "outputs": [],
   "source": []
  }
 ],
 "metadata": {
  "colab": {
   "collapsed_sections": [],
   "name": "LSTM_number_series_prediction.ipynb",
   "provenance": [],
   "version": "0.3.2"
  },
  "kernelspec": {
   "display_name": "Python 2",
   "language": "python",
   "name": "python2"
  },
  "language_info": {
   "codemirror_mode": {
    "name": "ipython",
    "version": 2
   },
   "file_extension": ".py",
   "mimetype": "text/x-python",
   "name": "python",
   "nbconvert_exporter": "python",
   "pygments_lexer": "ipython2",
   "version": "2.7.15"
  }
 },
 "nbformat": 4,
 "nbformat_minor": 1
}
